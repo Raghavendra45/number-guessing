{
 "cells": [
  {
   "cell_type": "markdown",
   "metadata": {
    "colab_type": "text",
    "id": "efAG4l6rh-Oj",
    "slideshow": {
     "slide_type": "slide"
    }
   },
   "source": [
    "# BEATING A NUMBER GUESSING GAME WITH AI \n",
    "(but really just Logistic Regression)\n",
    "\n",
    "\n",
    "## or\n",
    "\n",
    "# A number guessing game for developing Generative Adversarial Networks\n",
    "\n",
    "### Mehrdad Yazdani\n",
    "### November 12, 2018"
   ]
  },
  {
   "cell_type": "markdown",
   "metadata": {
    "ExecuteTime": {
     "end_time": "2018-11-12T16:04:28.074580Z",
     "start_time": "2018-11-12T16:04:27.911478Z"
    },
    "slideshow": {
     "slide_type": "slide"
    }
   },
   "source": [
    "![ai](figures/ai.jpg)"
   ]
  },
  {
   "cell_type": "markdown",
   "metadata": {
    "slideshow": {
     "slide_type": "slide"
    }
   },
   "source": [
    "- Consider Mark and Sally playing a 2-person random number guessing game. \n",
    "\n",
    "- Mark picks two numbers and keeps them hidden from Sally. \n",
    "\n"
   ]
  },
  {
   "cell_type": "markdown",
   "metadata": {
    "slideshow": {
     "slide_type": "fragment"
    }
   },
   "source": [
    "- Sally randomly reveals one of the numbers. \n",
    "\n"
   ]
  },
  {
   "cell_type": "markdown",
   "metadata": {
    "slideshow": {
     "slide_type": "fragment"
    }
   },
   "source": [
    "- Now Sally has to decide if the number NOT shown is bigger than the revealed number. If she guesses right, she wins. Otherwise, she loses."
   ]
  },
  {
   "cell_type": "markdown",
   "metadata": {
    "slideshow": {
     "slide_type": "slide"
    }
   },
   "source": [
    "It would seem that Sally has a 50% chance of winning. \n",
    "\n",
    "But Thomas Cover, a pioneer in information theory and statistics, came up with a strategy for her to win with probability greater than 50%!\n",
    "\n",
    "\n",
    "![ai](https://www.computerhope.com/people/pictures/thomas_cover.jpg)"
   ]
  },
  {
   "cell_type": "markdown",
   "metadata": {
    "slideshow": {
     "slide_type": "fragment"
    }
   },
   "source": [
    "- But super smart folks like Thomas Cover are rare \n",
    "\n"
   ]
  },
  {
   "cell_type": "markdown",
   "metadata": {
    "slideshow": {
     "slide_type": "fragment"
    }
   },
   "source": [
    "- If we want to solve a new problem every time, we would have to somehow clone them. \n",
    "\n"
   ]
  },
  {
   "cell_type": "markdown",
   "metadata": {
    "slideshow": {
     "slide_type": "fragment"
    }
   },
   "source": [
    "- What can we do to scale Thomas Cover? "
   ]
  },
  {
   "cell_type": "markdown",
   "metadata": {
    "slideshow": {
     "slide_type": "slide"
    }
   },
   "source": [
    "Use Machine Learning of course!! Unlike Thomas Cover, ML needs lots of examples to work. \n",
    "\n",
    "We will teach our machine to play this game by having it \"self play\" many times and guide it to get better. The ideas used here are the same ones that ML uses to beat humans at games like Go and Chess.\n",
    "\n",
    "Here is how we will simulate the game:"
   ]
  },
  {
   "cell_type": "markdown",
   "metadata": {
    "slideshow": {
     "slide_type": "fragment"
    }
   },
   "source": [
    "   - We will generate 2 random numbers from a random number generator \n",
    "\n",
    "\n"
   ]
  },
  {
   "cell_type": "markdown",
   "metadata": {
    "slideshow": {
     "slide_type": "fragment"
    }
   },
   "source": [
    "   - Randomly show one of them to the classifier. \n",
    "   \n"
   ]
  },
  {
   "cell_type": "markdown",
   "metadata": {
    "slideshow": {
     "slide_type": "fragment"
    }
   },
   "source": [
    "- If the other hidden number is bigger than the shown number, then this is a `positive` example. Otherwise, its a `negative` example.\n",
    "\n",
    "We can generate as many of these examples as we like & have our classifier play against itself."
   ]
  },
  {
   "cell_type": "markdown",
   "metadata": {
    "slideshow": {
     "slide_type": "slide"
    }
   },
   "source": [
    "All we need is numpy and scikit learn!!"
   ]
  },
  {
   "cell_type": "code",
   "execution_count": 1,
   "metadata": {
    "ExecuteTime": {
     "end_time": "2018-11-12T16:40:50.617527Z",
     "start_time": "2018-11-12T16:40:50.284960Z"
    },
    "colab": {},
    "colab_type": "code",
    "id": "ohKh0VoO0mXh",
    "slideshow": {
     "slide_type": "-"
    }
   },
   "outputs": [],
   "source": [
    "import numpy as np\n",
    "import matplotlib.pyplot as plt\n",
    "%matplotlib inline"
   ]
  },
  {
   "cell_type": "markdown",
   "metadata": {
    "colab_type": "text",
    "id": "RwFqhl4Rjpym",
    "slideshow": {
     "slide_type": "slide"
    }
   },
   "source": [
    "# Simulation/Data prep\n",
    "\n",
    "In our simulation, we are going to make the assumption that the two numbers are randomly drawn independenlty from a normal distribution. Let's generate a bunch of them that we will use for training and testing our agent. "
   ]
  },
  {
   "cell_type": "code",
   "execution_count": 2,
   "metadata": {
    "ExecuteTime": {
     "end_time": "2018-11-12T16:40:50.624614Z",
     "start_time": "2018-11-12T16:40:50.620188Z"
    },
    "colab": {},
    "colab_type": "code",
    "id": "_7eLCNOa0twg",
    "slideshow": {
     "slide_type": "-"
    }
   },
   "outputs": [],
   "source": [
    "N = 1000 # number of simulations\n",
    "numbers_1 = np.random.randn(N,1) # N numbers Mark holds in one hand\n",
    "numbers_2 = np.random.randn(N,1) # N numbers Mark holds in his other hand"
   ]
  },
  {
   "cell_type": "markdown",
   "metadata": {
    "colab_type": "text",
    "id": "aTl84M5tmKj1",
    "slideshow": {
     "slide_type": "slide"
    }
   },
   "source": [
    "Let's see if there is any relationship between numbers 1 and numbers 2. \n",
    "\n",
    "Hint: there shouldn't be!! Numbers 1 and Numbers 2 are totally generated at random so predicting one from the other should be really hard!"
   ]
  },
  {
   "cell_type": "code",
   "execution_count": 3,
   "metadata": {
    "ExecuteTime": {
     "end_time": "2018-11-12T16:40:50.795929Z",
     "start_time": "2018-11-12T16:40:50.628122Z"
    },
    "colab": {},
    "colab_type": "code",
    "id": "nB3PaittmblM",
    "slideshow": {
     "slide_type": "-"
    }
   },
   "outputs": [
    {
     "data": {
      "image/png": "[encoded data removed]",
      "text/plain": [
       "<matplotlib.figure.Figure at 0x1133502e8>"
      ]
     },
     "metadata": {
      "needs_background": "light"
     },
     "output_type": "display_data"
    }
   ],
   "source": [
    "plt.plot(numbers_1, numbers_2, '.')\n",
    "plt.xlabel(\"shown number \")\n",
    "plt.ylabel(\"hidden number\");"
   ]
  },
  {
   "cell_type": "markdown",
   "metadata": {
    "colab_type": "text",
    "id": "NFyC5vukmatK",
    "slideshow": {
     "slide_type": "slide"
    }
   },
   "source": [
    "We can actually quantify what is the correlation between numbers 1 and 2. Since they were selected IID and at random, we should expect their correlation to be 0 (in the case of infinite data) or very small."
   ]
  },
  {
   "cell_type": "code",
   "execution_count": 4,
   "metadata": {
    "ExecuteTime": {
     "end_time": "2018-11-12T16:40:50.804504Z",
     "start_time": "2018-11-12T16:40:50.799083Z"
    },
    "colab": {},
    "colab_type": "code",
    "id": "fzHSrN0tmyyd",
    "slideshow": {
     "slide_type": "-"
    }
   },
   "outputs": [
    {
     "data": {
      "text/plain": [
       "array([[1.        , 0.01376128],\n",
       "       [0.01376128, 1.        ]])"
      ]
     },
     "execution_count": 4,
     "metadata": {},
     "output_type": "execute_result"
    }
   ],
   "source": [
    "np.corrcoef(numbers_1.T, numbers_2.T)"
   ]
  },
  {
   "cell_type": "markdown",
   "metadata": {
    "colab_type": "text",
    "id": "6JavteURpEmw",
    "slideshow": {
     "slide_type": "slide"
    }
   },
   "source": [
    "Now we are going to make an assumption: we are always going to pick number 1 as what will be shown. Since numbers 1 and numbers 2 were selected IID, this is a sensible assumption. In other words, it doesn't matter which number is revealed and which kept hidden. \n",
    "\n",
    "We will call the number that is revealed `X` and the hidden numbers `Z`. We will also call the binary variable `y` anytime `Z  > X`."
   ]
  },
  {
   "cell_type": "code",
   "execution_count": 5,
   "metadata": {
    "ExecuteTime": {
     "end_time": "2018-11-12T16:40:50.811100Z",
     "start_time": "2018-11-12T16:40:50.807046Z"
    },
    "colab": {},
    "colab_type": "code",
    "id": "3LXNUYrT0yfl",
    "slideshow": {
     "slide_type": "-"
    }
   },
   "outputs": [],
   "source": [
    "X = numbers_1 # the number revealed\n",
    "Z = numbers_2 # the hidden number\n",
    "y = np.zeros(X.shape[0])\n",
    "y[Z.squeeze() > X.squeeze()] = 1 # everytime time the hidden number Z is bigger than the shown number X"
   ]
  },
  {
   "cell_type": "markdown",
   "metadata": {
    "colab_type": "text",
    "id": "u8xhemXPqwL7",
    "slideshow": {
     "slide_type": "slide"
    }
   },
   "source": [
    "# Reinforcement Learning AI!!!!11\n",
    "\n",
    "So let's now teach our agent how to play this game!! We essentially have a set of inputs `X` and set if targets `y` so we can use supervised learning for teaching our agent. We will be proper and split our data into a training and test set and to truly assess the ability of our agent learning this game. \n",
    "\n",
    "If we want to be fancy, we can claim that this is a simple version of policy gradients as done in Reinforcement Learning. However, since the way we have formed this problems involves no sequential decision making (just one decision), policy learning just boils down to supervised learning. "
   ]
  },
  {
   "cell_type": "code",
   "execution_count": 6,
   "metadata": {
    "ExecuteTime": {
     "end_time": "2018-11-12T16:40:50.817357Z",
     "start_time": "2018-11-12T16:40:50.813339Z"
    },
    "colab": {},
    "colab_type": "code",
    "id": "SgeVWe7Nr7Ck",
    "slideshow": {
     "slide_type": "-"
    }
   },
   "outputs": [],
   "source": [
    "num_train = X.shape[0]//2\n",
    "X_train, y_train = X[:num_train], y[:num_train]\n",
    "X_test, y_test = X[num_train:], y[num_train:]\n"
   ]
  },
  {
   "cell_type": "markdown",
   "metadata": {
    "colab_type": "text",
    "id": "MDz1ebzQr7-E",
    "slideshow": {
     "slide_type": "slide"
    }
   },
   "source": [
    "There are numerous supervised learning algorithms that we can useand scikit-learn gives us a unified API to test out whatever we like. Here we will start with the most simple and popular method: Logistic Regression!"
   ]
  },
  {
   "cell_type": "code",
   "execution_count": 7,
   "metadata": {
    "ExecuteTime": {
     "end_time": "2018-11-12T16:40:51.146890Z",
     "start_time": "2018-11-12T16:40:50.819672Z"
    },
    "colab": {},
    "colab_type": "code",
    "id": "c3SmappD1Iew",
    "slideshow": {
     "slide_type": "-"
    }
   },
   "outputs": [],
   "source": [
    "from sklearn.linear_model import LogisticRegression\n",
    "clf = LogisticRegression()# logistic regression takes a lot of additional params\n",
    "                          # but we will just leave everything as defaults!"
   ]
  },
  {
   "cell_type": "code",
   "execution_count": 8,
   "metadata": {
    "ExecuteTime": {
     "end_time": "2018-11-12T16:40:51.253057Z",
     "start_time": "2018-11-12T16:40:51.150662Z"
    },
    "colab": {},
    "colab_type": "code",
    "id": "qQCAZeh51QPQ",
    "slideshow": {
     "slide_type": "-"
    }
   },
   "outputs": [
    {
     "data": {
      "text/plain": [
       "LogisticRegression(C=1.0, class_weight=None, dual=False, fit_intercept=True,\n",
       "          intercept_scaling=1, max_iter=100, multi_class='ovr', n_jobs=1,\n",
       "          penalty='l2', random_state=None, solver='liblinear', tol=0.0001,\n",
       "          verbose=0, warm_start=False)"
      ]
     },
     "execution_count": 8,
     "metadata": {},
     "output_type": "execute_result"
    }
   ],
   "source": [
    "clf.fit(X_train, y_train) # teach our agent with the training set only!"
   ]
  },
  {
   "cell_type": "markdown",
   "metadata": {
    "colab_type": "text",
    "id": "7r6gWNVf7R7r",
    "slideshow": {
     "slide_type": "slide"
    }
   },
   "source": [
    "OK, lets now see how accurate our models. Let's start by seeing if our agent learned the training set. We will measure the accuracy of how often the agent has guessed correctly. 50% means the agent is just guessing and is no good."
   ]
  },
  {
   "cell_type": "code",
   "execution_count": 9,
   "metadata": {
    "ExecuteTime": {
     "end_time": "2018-11-12T16:40:51.261049Z",
     "start_time": "2018-11-12T16:40:51.256069Z"
    },
    "colab": {},
    "colab_type": "code",
    "id": "u0T82p6IsS0B",
    "slideshow": {
     "slide_type": "-"
    }
   },
   "outputs": [
    {
     "name": "stdout",
     "output_type": "stream",
     "text": [
      "Train accuracy: 73.6%\n"
     ]
    }
   ],
   "source": [
    "train_preds = clf.predict(X_train)\n",
    "print(\"Train accuracy: \" + str(100*np.mean(train_preds == y_train)) + \"%\")"
   ]
  },
  {
   "cell_type": "markdown",
   "metadata": {
    "colab_type": "text",
    "id": "beVENEk4CkSY",
    "slideshow": {
     "slide_type": "fragment"
    }
   },
   "source": [
    "OK, but this is just a training set!! This doesn't mean that the agent has actually learned anything! So we should put our agent to the test with data it hasn't seen!"
   ]
  },
  {
   "cell_type": "code",
   "execution_count": 10,
   "metadata": {
    "ExecuteTime": {
     "end_time": "2018-11-12T16:40:51.268595Z",
     "start_time": "2018-11-12T16:40:51.263176Z"
    },
    "colab": {},
    "colab_type": "code",
    "id": "RhAQuUDrsZf3",
    "slideshow": {
     "slide_type": "slide"
    }
   },
   "outputs": [
    {
     "name": "stdout",
     "output_type": "stream",
     "text": [
      "Test accuracy: 78.60000000000001%\n"
     ]
    }
   ],
   "source": [
    "test_preds = clf.predict(X_test)\n",
    "print(\"Test accuracy: \" + str(100*np.mean(test_preds == y_test)) + \"%\")"
   ]
  },
  {
   "cell_type": "markdown",
   "metadata": {
    "colab_type": "text",
    "id": "TVO-xm3fMgNf",
    "slideshow": {
     "slide_type": "slide"
    }
   },
   "source": [
    "Logistic regression is just a linear equation that predicts the log-odds of either the number is bigger or smaller. You may remember from high school the following equation for:\n",
    "\n",
    "$ y = mx +b$\n",
    "\n",
    "That's exactly what logistic regression is: we have learned what $m$ (the slope) and $b$ (the intercept should be)."
   ]
  },
  {
   "cell_type": "code",
   "execution_count": 11,
   "metadata": {
    "ExecuteTime": {
     "end_time": "2018-11-12T16:40:51.275426Z",
     "start_time": "2018-11-12T16:40:51.270840Z"
    },
    "colab": {},
    "colab_type": "code",
    "id": "SQu4yYcjC6yh",
    "slideshow": {
     "slide_type": "-"
    }
   },
   "outputs": [
    {
     "name": "stdout",
     "output_type": "stream",
     "text": [
      "The hidden number is bigger if:\n",
      " The shown number is -1.58 times plus -0.07 is positive. Otherwise, it is negative\n"
     ]
    }
   ],
   "source": [
    "print(\"The hidden number is bigger if:\")\n",
    "print(\" The shown number is %.2f times plus %.2f is positive. Otherwise, it is negative\" % (clf.coef_[0][0], clf.intercept_[0]))\n"
   ]
  },
  {
   "cell_type": "code",
   "execution_count": 12,
   "metadata": {
    "ExecuteTime": {
     "end_time": "2018-11-12T16:40:51.506817Z",
     "start_time": "2018-11-12T16:40:51.277362Z"
    },
    "colab": {},
    "colab_type": "code",
    "id": "GBaRWh-t803j"
   },
   "outputs": [
    {
     "data": {
      "image/png": "[encoded data removed]",
      "text/plain": [
       "<matplotlib.figure.Figure at 0x11641f978>"
      ]
     },
     "metadata": {
      "needs_background": "light"
     },
     "output_type": "display_data"
    }
   ],
   "source": [
    "plt.hist(X[y==1], label = \"show\", alpha = .2);\n",
    "plt.hist(X[y==0], label = \"don't show\", alpha = .2);\n",
    "plt.legend();"
   ]
  },
  {
   "cell_type": "code",
   "execution_count": 13,
   "metadata": {
    "ExecuteTime": {
     "end_time": "2018-11-12T16:40:51.513758Z",
     "start_time": "2018-11-12T16:40:51.508771Z"
    },
    "colab": {},
    "colab_type": "code",
    "id": "z-nfGPWM9DOG"
   },
   "outputs": [
    {
     "data": {
      "text/plain": [
       "(-0.6443471808328507, 0.5785859400965653)"
      ]
     },
     "execution_count": 13,
     "metadata": {},
     "output_type": "execute_result"
    }
   ],
   "source": [
    "np.mean(X[y==1]), np.mean(X[y==0])"
   ]
  },
  {
   "cell_type": "markdown",
   "metadata": {
    "colab_type": "text",
    "id": "jMufNCM2KvIX",
    "slideshow": {
     "slide_type": "slide"
    }
   },
   "source": [
    "# Let's use decision trees!\n",
    "\n"
   ]
  },
  {
   "cell_type": "code",
   "execution_count": 14,
   "metadata": {
    "ExecuteTime": {
     "end_time": "2018-11-12T16:40:51.526847Z",
     "start_time": "2018-11-12T16:40:51.516292Z"
    },
    "colab": {},
    "colab_type": "code",
    "id": "UftmpvUXA7yy",
    "slideshow": {
     "slide_type": "slide"
    }
   },
   "outputs": [],
   "source": [
    "from sklearn.tree import DecisionTreeClassifier\n",
    "clf = DecisionTreeClassifier() # lets just use default params"
   ]
  },
  {
   "cell_type": "code",
   "execution_count": 15,
   "metadata": {
    "ExecuteTime": {
     "end_time": "2018-11-12T16:40:51.535993Z",
     "start_time": "2018-11-12T16:40:51.528914Z"
    },
    "colab": {},
    "colab_type": "code",
    "id": "9aiTBkOgDNbo",
    "slideshow": {
     "slide_type": "-"
    }
   },
   "outputs": [
    {
     "data": {
      "text/plain": [
       "DecisionTreeClassifier(class_weight=None, criterion='gini', max_depth=None,\n",
       "            max_features=None, max_leaf_nodes=None,\n",
       "            min_impurity_decrease=0.0, min_impurity_split=None,\n",
       "            min_samples_leaf=1, min_samples_split=2,\n",
       "            min_weight_fraction_leaf=0.0, presort=False, random_state=None,\n",
       "            splitter='best')"
      ]
     },
     "execution_count": 15,
     "metadata": {},
     "output_type": "execute_result"
    }
   ],
   "source": [
    "clf.fit(X_train, y_train) # teach our agent with the training set only!"
   ]
  },
  {
   "cell_type": "code",
   "execution_count": 16,
   "metadata": {
    "ExecuteTime": {
     "end_time": "2018-11-12T16:40:51.544045Z",
     "start_time": "2018-11-12T16:40:51.538542Z"
    },
    "colab": {},
    "colab_type": "code",
    "id": "7XIUHGB8DPje",
    "slideshow": {
     "slide_type": "slide"
    }
   },
   "outputs": [
    {
     "name": "stdout",
     "output_type": "stream",
     "text": [
      "Train accuracy: 100.0%\n"
     ]
    }
   ],
   "source": [
    "train_preds = clf.predict(X_train)\n",
    "print(\"Train accuracy: \" + str(100*np.mean(train_preds == y_train)) + \"%\")"
   ]
  },
  {
   "cell_type": "code",
   "execution_count": 17,
   "metadata": {
    "ExecuteTime": {
     "end_time": "2018-11-12T16:40:51.553153Z",
     "start_time": "2018-11-12T16:40:51.547412Z"
    },
    "colab": {},
    "colab_type": "code",
    "id": "2P0b2sDsDRiL",
    "slideshow": {
     "slide_type": "fragment"
    }
   },
   "outputs": [
    {
     "name": "stdout",
     "output_type": "stream",
     "text": [
      "Test accuracy: 68.8%\n"
     ]
    }
   ],
   "source": [
    "test_preds = clf.predict(X_test)\n",
    "print(\"Test accuracy: \" + str(100*np.mean(test_preds == y_test)) + \"%\")"
   ]
  },
  {
   "cell_type": "markdown",
   "metadata": {
    "colab": {},
    "colab_type": "code",
    "id": "CdMQrvIwFSDh",
    "slideshow": {
     "slide_type": "slide"
    }
   },
   "source": [
    "## Extensions:\n",
    "\n",
    "Here are some questions to consider:\n",
    "\n",
    "- Violation of statistical independence: Mark picks the two numbers strategically (eg: gonna pick 2 numbers super close!)\n",
    "- What if instead of Sally picking the number, Marks selects which number to reveal?\n",
    "- Violation of stationarity: Mark is getting tired of losing to Sally. He starts changing his strategy for selecting the random numbers. \n",
    "- Change the rewards: winning or losing for Sally has equal reward/loss. What if we change this? Make Sally lose more when she loses?"
   ]
  },
  {
   "cell_type": "markdown",
   "metadata": {
    "slideshow": {
     "slide_type": "slide"
    }
   },
   "source": [
    "## What if Mark selects adversarial numbers  to maximally fool Sally?\n",
    "\n",
    "- How do we learn a probability distribution function that is maximally hard to discriminate for winning? \n",
    "\n",
    "- This is the exact goal of GANs! Estimating a probability distribution using a Generator Network that maximally fools a Discriminator Network \n",
    "\n",
    "\n",
    "- We can use this game as a way to explore GAN architectures\n",
    "\n"
   ]
  },
  {
   "cell_type": "markdown",
   "metadata": {},
   "source": [
    "## GANs produce amazing results after lots of effort\n",
    "\n",
    "![gan-imgs](figures/gan-images.jpg)"
   ]
  },
  {
   "cell_type": "markdown",
   "metadata": {
    "slideshow": {
     "slide_type": "slide"
    }
   },
   "source": [
    "\n",
    "![gan-actor](figures/GAN-actor-critic.png)\n",
    "\n",
    "\n",
    "\"Connecting Generative Adversarial Networks and Actor-Critic Methods\" by David Pfau, Oriol Vinyals"
   ]
  },
  {
   "cell_type": "markdown",
   "metadata": {
    "ExecuteTime": {
     "end_time": "2018-11-12T16:58:41.013540Z",
     "start_time": "2018-11-12T16:58:41.008908Z"
    },
    "slideshow": {
     "slide_type": "slide"
    }
   },
   "source": [
    "![gan-actor](figures/bilevel.png)\n",
    "\n",
    "\n",
    "\"Connecting Generative Adversarial Networks and Actor-Critic Methods\" by David Pfau, Oriol Vinyals"
   ]
  },
  {
   "cell_type": "code",
   "execution_count": null,
   "metadata": {},
   "outputs": [],
   "source": []
  }
 ],
 "metadata": {
  "celltoolbar": "Slideshow",
  "colab": {
   "name": "pick-largest-adversarial-number.ipynb",
   "provenance": [],
   "version": "0.3.2"
  },
  "hide_input": false,
  "kernelspec": {
   "display_name": "Python 3",
   "language": "python",
   "name": "python3"
  },
  "language_info": {
   "codemirror_mode": {
    "name": "ipython",
    "version": 3
   },
   "file_extension": ".py",
   "mimetype": "text/x-python",
   "name": "python",
   "nbconvert_exporter": "python",
   "pygments_lexer": "ipython3",
   "version": "3.6.4"
  },
  "latex_envs": {
   "LaTeX_envs_menu_present": true,
   "autoclose": false,
   "autocomplete": true,
   "bibliofile": "biblio.bib",
   "cite_by": "apalike",
   "current_citInitial": 1,
   "eqLabelWithNumbers": true,
   "eqNumInitial": 1,
   "hotkeys": {
    "equation": "Ctrl-E",
    "itemize": "Ctrl-I"
   },
   "labels_anchors": false,
   "latex_user_defs": false,
   "report_style_numbering": false,
   "user_envs_cfg": false
  },
  "varInspector": {
   "cols": {
    "lenName": 16,
    "lenType": 16,
    "lenVar": 40
   },
   "kernels_config": {
    "python": {
     "delete_cmd_postfix": "",
     "delete_cmd_prefix": "del ",
     "library": "var_list.py",
     "varRefreshCmd": "print(var_dic_list())"
    },
    "r": {
     "delete_cmd_postfix": ") ",
     "delete_cmd_prefix": "rm(",
     "library": "var_list.r",
     "varRefreshCmd": "cat(var_dic_list()) "
    }
   },
   "types_to_exclude": [
    "module",
    "function",
    "builtin_function_or_method",
    "instance",
    "_Feature"
   ],
   "window_display": false
  }
 },
 "nbformat": 4,
 "nbformat_minor": 1
}
