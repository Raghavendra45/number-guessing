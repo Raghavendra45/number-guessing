{
 "cells": [
  {
   "cell_type": "code",
   "execution_count": 9,
   "metadata": {
    "ExecuteTime": {
     "end_time": "2018-11-12T21:42:25.582201Z",
     "start_time": "2018-11-12T21:42:25.575099Z"
    },
    "colab": {},
    "colab_type": "code",
    "id": "_Y7B_uuwOgzm"
   },
   "outputs": [],
   "source": [
    "import os\n",
    "import numpy as np\n",
    "import math\n",
    "\n",
    "import matplotlib.pyplot as plt\n",
    "%matplotlib inline"
   ]
  },
  {
   "cell_type": "code",
   "execution_count": 10,
   "metadata": {
    "ExecuteTime": {
     "end_time": "2018-11-12T21:42:25.973846Z",
     "start_time": "2018-11-12T21:42:25.968438Z"
    },
    "colab": {},
    "colab_type": "code",
    "id": "WKrcXyB1Gtzb"
   },
   "outputs": [],
   "source": [
    "from torch.autograd import Variable\n",
    "\n",
    "import torch.nn as nn\n",
    "import torch.nn.functional as F\n",
    "import torch\n",
    "\n",
    "\n",
    "cuda = True if torch.cuda.is_available() else False\n"
   ]
  },
  {
   "cell_type": "code",
   "execution_count": 11,
   "metadata": {
    "ExecuteTime": {
     "end_time": "2018-11-12T21:42:26.375078Z",
     "start_time": "2018-11-12T21:42:26.370161Z"
    },
    "colab": {
     "base_uri": "https://localhost:8080/",
     "height": 34
    },
    "colab_type": "code",
    "id": "wPSKB20GXZ1H",
    "outputId": "5769a969-7f03-4d43-f48f-e1195f310482"
   },
   "outputs": [
    {
     "data": {
      "text/plain": [
       "device(type='cpu')"
      ]
     },
     "execution_count": 11,
     "metadata": {},
     "output_type": "execute_result"
    }
   ],
   "source": [
    "device = torch.device(\"cuda:0\" if torch.cuda.is_available() else \"cpu\")\n",
    "device"
   ]
  },
  {
   "cell_type": "code",
   "execution_count": 12,
   "metadata": {
    "ExecuteTime": {
     "end_time": "2018-11-12T21:42:26.677889Z",
     "start_time": "2018-11-12T21:42:26.673090Z"
    },
    "colab": {},
    "colab_type": "code",
    "id": "XxCMxcCqG3pN"
   },
   "outputs": [],
   "source": [
    "n_epochs = 200\n",
    "lr = 2e-4\n",
    "b1 = .5\n",
    "b2 = .999\n",
    "n_cpu = 8\n",
    "latent_dim = 2\n",
    "sample_interval = 400"
   ]
  },
  {
   "cell_type": "code",
   "execution_count": 13,
   "metadata": {
    "ExecuteTime": {
     "end_time": "2018-11-12T21:42:27.103722Z",
     "start_time": "2018-11-12T21:42:27.061303Z"
    },
    "colab": {},
    "colab_type": "code",
    "id": "tan8xgxdG3m6"
   },
   "outputs": [],
   "source": [
    "class Generator(nn.Module):\n",
    "    def __init__(self):\n",
    "        super(Generator, self).__init__()\n",
    "\n",
    "        def block(in_feat, out_feat, normalize=True):\n",
    "            layers = [nn.Linear(in_feat, out_feat)]\n",
    "            if normalize:\n",
    "                layers.append(nn.BatchNorm1d(out_feat, 0.8))\n",
    "            layers.append(nn.LeakyReLU(0.2, inplace=True))\n",
    "            return layers\n",
    "\n",
    "        self.model = nn.Sequential(\n",
    "            *block(latent_dim, 100, normalize=False),\n",
    "            *block(100, 10, normalize=False),\n",
    "            nn.Linear(10, latent_dim)\n",
    "        )\n",
    "\n",
    "    def forward(self, z):\n",
    "        x = self.model(z)\n",
    "        return x\n",
    "\n",
    "class Discriminator(nn.Module):\n",
    "    def __init__(self):\n",
    "        super(Discriminator, self).__init__()\n",
    "\n",
    "        self.model = nn.Sequential(\n",
    "            nn.Linear(1, 20),\n",
    "            nn.LeakyReLU(0.2, inplace=True),\n",
    "            nn.Linear(20, 20),\n",
    "            nn.LeakyReLU(0.2, inplace=True),\n",
    "            nn.Linear(20, 1),\n",
    "            nn.Sigmoid()\n",
    "        )\n",
    "\n",
    "    def forward(self, x):\n",
    "        validity = self.model(x)\n",
    "\n",
    "        return validity"
   ]
  },
  {
   "cell_type": "code",
   "execution_count": 32,
   "metadata": {
    "ExecuteTime": {
     "end_time": "2018-11-12T21:45:00.317317Z",
     "start_time": "2018-11-12T21:45:00.312693Z"
    },
    "colab": {},
    "colab_type": "code",
    "id": "2QCsvdTNGvM8"
   },
   "outputs": [],
   "source": [
    "# Initialize generator and discriminator\n",
    "generator = Generator().to(device)\n",
    "discriminator = Discriminator().to(device)"
   ]
  },
  {
   "cell_type": "code",
   "execution_count": 33,
   "metadata": {
    "ExecuteTime": {
     "end_time": "2018-11-12T21:45:00.494888Z",
     "start_time": "2018-11-12T21:45:00.491580Z"
    },
    "colab": {},
    "colab_type": "code",
    "id": "vU0I6dtWR6ha"
   },
   "outputs": [],
   "source": [
    "# Loss function\n",
    "adversarial_loss = torch.nn.BCELoss()"
   ]
  },
  {
   "cell_type": "code",
   "execution_count": 34,
   "metadata": {
    "ExecuteTime": {
     "end_time": "2018-11-12T21:45:00.628736Z",
     "start_time": "2018-11-12T21:45:00.623573Z"
    },
    "colab": {},
    "colab_type": "code",
    "id": "TPRmk4jMRNae"
   },
   "outputs": [],
   "source": [
    "# Optimizers\n",
    "\n",
    "optimizer_G = torch.optim.Adam(generator.parameters(), lr=.01)\n",
    "optimizer_D = torch.optim.Adam(discriminator.parameters(), lr=.01)\n",
    "\n",
    "Tensor = torch.cuda.FloatTensor if cuda else torch.FloatTensor\n"
   ]
  },
  {
   "cell_type": "code",
   "execution_count": 35,
   "metadata": {
    "ExecuteTime": {
     "end_time": "2018-11-12T21:45:03.181152Z",
     "start_time": "2018-11-12T21:45:00.780117Z"
    },
    "code_folding": [],
    "colab": {
     "base_uri": "https://localhost:8080/",
     "height": 17071
    },
    "colab_type": "code",
    "id": "aThMSg8OGvLA",
    "outputId": "2505fd3f-60df-4ccb-e43c-22d3e2ca1620",
    "scrolled": true
   },
   "outputs": [
    {
     "name": "stderr",
     "output_type": "stream",
     "text": [
      "/anaconda3/lib/python3.6/site-packages/torch/nn/functional.py:1594: UserWarning: Using a target size (torch.Size([100])) that is different to the input size (torch.Size([100, 1])) is deprecated. Please ensure they have the same size.\n",
      "  \"Please ensure they have the same size.\".format(target.size(), input.size()))\n"
     ]
    },
    {
     "name": "stdout",
     "output_type": "stream",
     "text": [
      "[Epoch 0/200] [Batch 99/100] [D loss: 0.000577] [G loss: 0.695887]\n",
      "[Epoch 1/200] [Batch 99/100] [D loss: 0.000002] [G loss: 16.276863]\n",
      "[Epoch 2/200] [Batch 99/100] [D loss: 0.000081] [G loss: 12.988582]\n",
      "[Epoch 3/200] [Batch 99/100] [D loss: 0.011360] [G loss: 11.953946]\n",
      "[Epoch 4/200] [Batch 99/100] [D loss: 0.536342] [G loss: 11.083901]\n",
      "[Epoch 5/200] [Batch 99/100] [D loss: 0.553526] [G loss: 1.464253]\n",
      "[Epoch 6/200] [Batch 99/100] [D loss: 0.450019] [G loss: 1.799241]\n",
      "[Epoch 7/200] [Batch 99/100] [D loss: 0.441022] [G loss: 2.559006]\n",
      "[Epoch 8/200] [Batch 99/100] [D loss: 0.429129] [G loss: 2.672136]\n",
      "[Epoch 9/200] [Batch 99/100] [D loss: 0.464732] [G loss: 2.136586]\n",
      "CPU times: user 2.26 s, sys: 25.2 ms, total: 2.29 s\n",
      "Wall time: 2.29 s\n"
     ]
    }
   ],
   "source": [
    "%%time\n",
    "# ----------\n",
    "#  Training\n",
    "# ----------\n",
    "\n",
    "winnings = []\n",
    "for epoch in range(10):\n",
    "    # ------------------\n",
    "    # generate sample game\n",
    "    # ------------------\n",
    "    num_games = 100\n",
    "    X = torch.randn(num_games,2).to(device)\n",
    "    generated = generator(X).to(device)\n",
    "    choices = np.random.binomial(n = 1, size = generated.size()[0], p = .5)\n",
    "    generated_selected = []\n",
    "    generated_not_selected = []\n",
    "    for i in range(len(choices)):\n",
    "        generated_selected.append(generated[i,choices[i]].squeeze())\n",
    "        generated_not_selected.append(generated[i,~choices[i]].squeeze())\n",
    "\n",
    "    generated_selected = torch.stack(generated_selected)\n",
    "    generated_not_selected = torch.stack(generated_not_selected)\n",
    "    \n",
    "    guesses = discriminator(generated_selected.view(-1,1))\n",
    "    \n",
    "    other_number_is_bigger = (generated_selected < generated_not_selected).to(device, dtype=torch.float32)\n",
    "    \n",
    "    winnings.append(torch.sum((guesses>.5).to(device, dtype=torch.float32).squeeze() == \n",
    "                               other_number_is_bigger.squeeze()).item())\n",
    "    \n",
    "    tricked = (generated_selected >= generated_not_selected).to(device, dtype=torch.float32)\n",
    "    \n",
    "    \n",
    "    \n",
    "    # --------------- \n",
    "    # Train Generator\n",
    "    # ---------------\n",
    "    for k in range(1):\n",
    "        optimizer_G.zero_grad()\n",
    "        # Loss measures generator's ability to fool the discriminator\n",
    "        g_loss = adversarial_loss(discriminator(generated_selected.view(-1,1)), tricked)\n",
    "\n",
    "\n",
    "        g_loss.backward(retain_graph=True)\n",
    "        optimizer_G.step()\n",
    "        \n",
    "    for k in range(100):\n",
    "        #print(k)\n",
    "        # ------------------- \n",
    "        # Train Discriminator\n",
    "        # -------------------\n",
    "        optimizer_D.zero_grad()\n",
    "        d_loss = adversarial_loss(discriminator(generated_selected.view(-1,1)), other_number_is_bigger)\n",
    "\n",
    "        d_loss.backward(retain_graph=True)\n",
    "        optimizer_D.step()\n",
    "\n",
    "\n",
    "    \n",
    "    print (\"[Epoch %d/%d] [Batch %d/%d] [D loss: %f] [G loss: %f]\" % \n",
    "           (epoch, n_epochs, i, 100, \n",
    "            d_loss.item(), g_loss.item()))\n",
    "    \n"
   ]
  },
  {
   "cell_type": "code",
   "execution_count": 36,
   "metadata": {
    "ExecuteTime": {
     "end_time": "2018-11-12T21:45:03.358926Z",
     "start_time": "2018-11-12T21:45:03.231909Z"
    },
    "colab": {
     "base_uri": "https://localhost:8080/",
     "height": 282
    },
    "colab_type": "code",
    "id": "54noo3QTGvFM",
    "outputId": "af0d025b-6a98-4387-d7e2-f38cfbc239f0"
   },
   "outputs": [
    {
     "data": {
      "image/png": "[encoded data removed]",
      "text/plain": [
       "<matplotlib.figure.Figure at 0x1098337b8>"
      ]
     },
     "metadata": {
      "needs_background": "light"
     },
     "output_type": "display_data"
    }
   ],
   "source": [
    "plt.plot(100*np.array(winnings)/num_games)\n",
    "plt.xlabel(\"Epochs\")\n",
    "plt.ylabel(\"Percent games won\");"
   ]
  },
  {
   "cell_type": "code",
   "execution_count": 37,
   "metadata": {
    "ExecuteTime": {
     "end_time": "2018-11-12T21:45:07.358660Z",
     "start_time": "2018-11-12T21:45:07.315036Z"
    },
    "colab": {},
    "colab_type": "code",
    "id": "bjkdW5MUIvzq"
   },
   "outputs": [],
   "source": [
    "X = torch.randn(1000,2).to(device)\n",
    "generated = generator(X)\n",
    "choices = np.random.binomial(n = 1, size = generated.size()[0], p = .5)\n",
    "generated_selected = []\n",
    "generated_not_selected = []\n",
    "for i in range(len(choices)):\n",
    "    generated_selected.append(generated[i,choices[i]].squeeze())\n",
    "    generated_not_selected.append(generated[i,~choices[i]].squeeze())\n",
    "\n",
    "generated_selected = torch.stack(generated_selected)\n",
    "generated_not_selected = torch.stack(generated_not_selected)\n",
    "\n",
    "other_number_is_bigger = (generated_selected < generated_not_selected).to(device, dtype=torch.float32)\n",
    "tricked = (generated_selected >= generated_not_selected).to(device, dtype=torch.float32)"
   ]
  },
  {
   "cell_type": "code",
   "execution_count": 38,
   "metadata": {
    "ExecuteTime": {
     "end_time": "2018-11-12T21:45:07.744007Z",
     "start_time": "2018-11-12T21:45:07.591501Z"
    },
    "colab": {
     "base_uri": "https://localhost:8080/",
     "height": 282
    },
    "colab_type": "code",
    "id": "4iADucD_Ozph",
    "outputId": "6e8e8671-af79-46a8-9fef-4cc97f0e08db"
   },
   "outputs": [
    {
     "data": {
      "text/plain": [
       "[<matplotlib.lines.Line2D at 0x109c77c50>]"
      ]
     },
     "execution_count": 38,
     "metadata": {},
     "output_type": "execute_result"
    },
    {
     "data": {
      "image/png": "[encoded data removed]",
      "text/plain": [
       "<matplotlib.figure.Figure at 0x1098baa20>"
      ]
     },
     "metadata": {
      "needs_background": "light"
     },
     "output_type": "display_data"
    }
   ],
   "source": [
    "plt.plot(generated[:,0].cpu().detach().numpy(), generated[:,1].cpu().detach().numpy(), '.', alpha = .9)"
   ]
  },
  {
   "cell_type": "code",
   "execution_count": 39,
   "metadata": {
    "ExecuteTime": {
     "end_time": "2018-11-12T21:45:10.205942Z",
     "start_time": "2018-11-12T21:45:10.042580Z"
    },
    "colab": {
     "base_uri": "https://localhost:8080/",
     "height": 265
    },
    "colab_type": "code",
    "id": "8f6XUK1Qj5Xq",
    "outputId": "c7deb7ed-3bd5-4040-c7dc-5862153bee9a"
   },
   "outputs": [
    {
     "data": {
      "image/png": "[encoded data removed]",
      "text/plain": [
       "<matplotlib.figure.Figure at 0x1098bac88>"
      ]
     },
     "metadata": {
      "needs_background": "light"
     },
     "output_type": "display_data"
    }
   ],
   "source": [
    "plt.hist(generated_selected.cpu().detach().numpy(), label = \"selected\", alpha = .5);\n",
    "plt.hist(generated_not_selected.cpu().detach().numpy(), label = \"not selected\", alpha = .5);\n",
    "plt.legend();"
   ]
  },
  {
   "cell_type": "code",
   "execution_count": 40,
   "metadata": {
    "ExecuteTime": {
     "end_time": "2018-11-12T21:45:12.873154Z",
     "start_time": "2018-11-12T21:45:12.676647Z"
    },
    "colab": {
     "base_uri": "https://localhost:8080/",
     "height": 265
    },
    "colab_type": "code",
    "id": "2G-gfpxqkb2B",
    "outputId": "de08a7e5-2490-467b-eb95-0a3d5aff0bd8"
   },
   "outputs": [
    {
     "data": {
      "image/png": "[encoded data removed]",
      "text/plain": [
       "<matplotlib.figure.Figure at 0x109e41908>"
      ]
     },
     "metadata": {
      "needs_background": "light"
     },
     "output_type": "display_data"
    }
   ],
   "source": [
    "\n",
    "plt.hist(generated_selected.cpu().detach().numpy()[np.where(other_number_is_bigger.cpu().detach().numpy())[0]], label = \"selected\", alpha = .5);\n",
    "plt.hist(generated_not_selected.cpu().detach().numpy()[np.where(other_number_is_bigger.cpu().detach().numpy())[0]], label = \"not selected\", alpha = .5);\n",
    "plt.legend();"
   ]
  },
  {
   "cell_type": "code",
   "execution_count": 23,
   "metadata": {
    "ExecuteTime": {
     "end_time": "2018-11-12T21:43:06.110699Z",
     "start_time": "2018-11-12T21:43:06.105307Z"
    },
    "colab": {
     "base_uri": "https://localhost:8080/",
     "height": 34
    },
    "colab_type": "code",
    "id": "2FMwPl2sko7E",
    "outputId": "034df039-2057-48c2-9c6d-280009840974"
   },
   "outputs": [
    {
     "data": {
      "text/plain": [
       "503"
      ]
     },
     "execution_count": 23,
     "metadata": {},
     "output_type": "execute_result"
    }
   ],
   "source": [
    "len(generated_selected.detach().numpy()[np.where(other_number_is_bigger.detach().numpy())[0]])"
   ]
  },
  {
   "cell_type": "code",
   "execution_count": 24,
   "metadata": {
    "ExecuteTime": {
     "end_time": "2018-11-12T21:43:07.425765Z",
     "start_time": "2018-11-12T21:43:07.419107Z"
    },
    "colab": {
     "base_uri": "https://localhost:8080/",
     "height": 34
    },
    "colab_type": "code",
    "id": "byC5ducMmZBX",
    "outputId": "e6382324-9599-46c6-f8d9-58e14cbeb4a7"
   },
   "outputs": [
    {
     "data": {
      "text/plain": [
       "503"
      ]
     },
     "execution_count": 24,
     "metadata": {},
     "output_type": "execute_result"
    }
   ],
   "source": [
    "len(generated_not_selected.detach().numpy()[np.where(other_number_is_bigger.detach().numpy())[0]])"
   ]
  },
  {
   "cell_type": "code",
   "execution_count": 25,
   "metadata": {
    "ExecuteTime": {
     "end_time": "2018-11-12T21:43:07.843259Z",
     "start_time": "2018-11-12T21:43:07.690626Z"
    },
    "colab": {
     "base_uri": "https://localhost:8080/",
     "height": 282
    },
    "colab_type": "code",
    "id": "t-u5RZgfmhLa",
    "outputId": "ca6f51fa-5bcd-4028-e892-3a6bf1142d76"
   },
   "outputs": [
    {
     "data": {
      "text/plain": [
       "[<matplotlib.lines.Line2D at 0x109843f98>]"
      ]
     },
     "execution_count": 25,
     "metadata": {},
     "output_type": "execute_result"
    },
    {
     "data": {
      "image/png": "[encoded data removed]",
      "text/plain": [
       "<matplotlib.figure.Figure at 0x10246f668>"
      ]
     },
     "metadata": {
      "needs_background": "light"
     },
     "output_type": "display_data"
    }
   ],
   "source": [
    "plt.plot(generated_selected.cpu().detach().numpy()[np.where(other_number_is_bigger.cpu().detach().numpy())[0]], \n",
    "         generated_not_selected.cpu().detach().numpy()[np.where(other_number_is_bigger.cpu().detach().numpy())[0]], '.', alpha = .9)"
   ]
  },
  {
   "cell_type": "code",
   "execution_count": 26,
   "metadata": {
    "ExecuteTime": {
     "end_time": "2018-11-12T21:43:08.407245Z",
     "start_time": "2018-11-12T21:43:08.266865Z"
    },
    "colab": {
     "base_uri": "https://localhost:8080/",
     "height": 282
    },
    "colab_type": "code",
    "id": "BpGj0spMmmO5",
    "outputId": "e79bae36-f6b1-4f56-988a-74bf273eed7c"
   },
   "outputs": [
    {
     "data": {
      "text/plain": [
       "[<matplotlib.lines.Line2D at 0x1099f7f28>]"
      ]
     },
     "execution_count": 26,
     "metadata": {},
     "output_type": "execute_result"
    },
    {
     "data": {
      "image/png": "[encoded data removed]",
      "text/plain": [
       "<matplotlib.figure.Figure at 0x10985b470>"
      ]
     },
     "metadata": {
      "needs_background": "light"
     },
     "output_type": "display_data"
    }
   ],
   "source": [
    "plt.plot(generated_selected.detach().numpy()[np.where(tricked.detach().numpy())[0]], \n",
    "         generated_not_selected.detach().numpy()[np.where(tricked.detach().numpy())[0]], '.', alpha = .1)"
   ]
  },
  {
   "cell_type": "code",
   "execution_count": null,
   "metadata": {
    "colab": {},
    "colab_type": "code",
    "id": "8rYR1LR8nLzX"
   },
   "outputs": [],
   "source": [
    "generated_selected = torch.stack(generated_selected)\n",
    "generated_not_selected = torch.stack(generated_not_selected)\n",
    "\n",
    "other_number_is_bigger = (generated_selected < generated_not_selected).to(device, dtype=torch.float32)\n",
    "tricked = (generated_selected >= generated_not_selected).to(device, dtype=torch.float32)"
   ]
  },
  {
   "cell_type": "code",
   "execution_count": 23,
   "metadata": {
    "ExecuteTime": {
     "end_time": "2018-11-12T09:03:55.816074Z",
     "start_time": "2018-11-12T09:03:55.812626Z"
    }
   },
   "outputs": [],
   "source": [
    "X = generated_selected.detach().numpy()\n",
    "y = other_number_is_bigger.detach().numpy()"
   ]
  },
  {
   "cell_type": "code",
   "execution_count": 35,
   "metadata": {
    "ExecuteTime": {
     "end_time": "2018-11-12T09:06:33.401211Z",
     "start_time": "2018-11-12T09:06:33.397201Z"
    }
   },
   "outputs": [],
   "source": [
    "from sklearn.linear_model import LogisticRegression\n",
    "from sklearn.tree import DecisionTreeClassifier\n",
    "clf = DecisionTreeClassifier()"
   ]
  },
  {
   "cell_type": "code",
   "execution_count": 36,
   "metadata": {
    "ExecuteTime": {
     "end_time": "2018-11-12T09:06:35.390321Z",
     "start_time": "2018-11-12T09:06:35.384543Z"
    }
   },
   "outputs": [
    {
     "data": {
      "text/plain": [
       "DecisionTreeClassifier(class_weight=None, criterion='gini', max_depth=None,\n",
       "            max_features=None, max_leaf_nodes=None,\n",
       "            min_impurity_decrease=0.0, min_impurity_split=None,\n",
       "            min_samples_leaf=1, min_samples_split=2,\n",
       "            min_weight_fraction_leaf=0.0, presort=False, random_state=None,\n",
       "            splitter='best')"
      ]
     },
     "execution_count": 36,
     "metadata": {},
     "output_type": "execute_result"
    }
   ],
   "source": [
    "clf.fit(X[:100, np.newaxis], y[:100])"
   ]
  },
  {
   "cell_type": "code",
   "execution_count": 37,
   "metadata": {
    "ExecuteTime": {
     "end_time": "2018-11-12T09:06:37.403017Z",
     "start_time": "2018-11-12T09:06:37.391691Z"
    }
   },
   "outputs": [
    {
     "data": {
      "text/plain": [
       "0.49666666666666665"
      ]
     },
     "execution_count": 37,
     "metadata": {},
     "output_type": "execute_result"
    }
   ],
   "source": [
    "y_preds = clf.predict(X[100:, np.newaxis])\n",
    "np.mean(y_preds == y[100:])"
   ]
  },
  {
   "cell_type": "code",
   "execution_count": 38,
   "metadata": {
    "ExecuteTime": {
     "end_time": "2018-11-12T09:07:03.474810Z",
     "start_time": "2018-11-12T09:07:03.469731Z"
    }
   },
   "outputs": [
    {
     "data": {
      "text/plain": [
       "tensor([[-0.3629, -0.3593],\n",
       "        [-0.4407, -0.4359],\n",
       "        [-0.4403, -0.4380],\n",
       "        ...,\n",
       "        [-0.3781, -0.3723],\n",
       "        [-0.4348, -0.4321],\n",
       "        [-0.5893, -0.5827]], grad_fn=<ThAddmmBackward>)"
      ]
     },
     "execution_count": 38,
     "metadata": {},
     "output_type": "execute_result"
    }
   ],
   "source": [
    "generated"
   ]
  },
  {
   "cell_type": "code",
   "execution_count": null,
   "metadata": {},
   "outputs": [],
   "source": []
  }
 ],
 "metadata": {
  "accelerator": "GPU",
  "colab": {
   "name": "gan-game.ipynb",
   "provenance": [],
   "version": "0.3.2"
  },
  "hide_input": false,
  "kernelspec": {
   "display_name": "Python 3",
   "language": "python",
   "name": "python3"
  },
  "language_info": {
   "codemirror_mode": {
    "name": "ipython",
    "version": 3
   },
   "file_extension": ".py",
   "mimetype": "text/x-python",
   "name": "python",
   "nbconvert_exporter": "python",
   "pygments_lexer": "ipython3",
   "version": "3.6.4"
  },
  "latex_envs": {
   "LaTeX_envs_menu_present": true,
   "autoclose": false,
   "autocomplete": true,
   "bibliofile": "biblio.bib",
   "cite_by": "apalike",
   "current_citInitial": 1,
   "eqLabelWithNumbers": true,
   "eqNumInitial": 1,
   "hotkeys": {
    "equation": "Ctrl-E",
    "itemize": "Ctrl-I"
   },
   "labels_anchors": false,
   "latex_user_defs": false,
   "report_style_numbering": false,
   "user_envs_cfg": false
  },
  "varInspector": {
   "cols": {
    "lenName": 16,
    "lenType": 16,
    "lenVar": 40
   },
   "kernels_config": {
    "python": {
     "delete_cmd_postfix": "",
     "delete_cmd_prefix": "del ",
     "library": "var_list.py",
     "varRefreshCmd": "print(var_dic_list())"
    },
    "r": {
     "delete_cmd_postfix": ") ",
     "delete_cmd_prefix": "rm(",
     "library": "var_list.r",
     "varRefreshCmd": "cat(var_dic_list()) "
    }
   },
   "types_to_exclude": [
    "module",
    "function",
    "builtin_function_or_method",
    "instance",
    "_Feature"
   ],
   "window_display": false
  }
 },
 "nbformat": 4,
 "nbformat_minor": 1
}
